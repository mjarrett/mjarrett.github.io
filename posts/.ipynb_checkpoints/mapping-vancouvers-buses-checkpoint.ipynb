{
 "cells": [
  {
   "cell_type": "markdown",
   "metadata": {},
   "source": [
    "I came across [@realtimebus](https://twitter.com/realtimebus) the other day and immediately wanted to recreate is for Vancouver. Luckily [Translink has a realtime bus API](https://developer.translink.ca/) that I could pull from and making an animated gif is pretty straightforward in Python. And since I already have some experience making twitter bots with [@VanBikeShareBot](https://twitter.com/VanBikeShareBot) so I felt like I didn't really have a choice.\n",
    "\n",
    "<!-- TEASER_END-->\n",
    "\n",
    "First I needed to go to the Translink developers website to get an API key, and put it in a file called `credentials.py` like so:\n",
    "```\n",
    "translink_api_key = 'myapikeystring'\n",
    "```\n",
    "This allows me to import the key as a variable without making it public."
   ]
  },
  {
   "cell_type": "code",
   "execution_count": 1,
   "metadata": {},
   "outputs": [
    {
     "ename": "ModuleNotFoundError",
     "evalue": "No module named 'credentials'",
     "output_type": "error",
     "traceback": [
      "\u001b[0;31m---------------------------------------------------------------------------\u001b[0m",
      "\u001b[0;31mModuleNotFoundError\u001b[0m                       Traceback (most recent call last)",
      "\u001b[0;32m<ipython-input-1-06a1ce7ff1b7>\u001b[0m in \u001b[0;36m<module>\u001b[0;34m()\u001b[0m\n\u001b[0;32m----> 1\u001b[0;31m \u001b[0;32mfrom\u001b[0m \u001b[0mcredentials\u001b[0m \u001b[0;32mimport\u001b[0m \u001b[0mtranslink_api_key\u001b[0m\u001b[0;34m\u001b[0m\u001b[0m\n\u001b[0m",
      "\u001b[0;31mModuleNotFoundError\u001b[0m: No module named 'credentials'"
     ]
    }
   ],
   "source": [
    "from credentials import translink_api_key"
   ]
  },
  {
   "cell_type": "markdown",
   "metadata": {},
   "source": [
    "The first step is to write a function that queries the API and dumps the bus information to a CSV file. My strategy here is to read the XML from the API call and convert it to a Pandas dataframe which gets saved as a CSV. The first call creates the CSV file and subsequent queries append to the end of the file."
   ]
  },
  {
   "cell_type": "code",
   "execution_count": null,
   "metadata": {},
   "outputs": [],
   "source": [
    "import urllib.request\n",
    "import xml.etree.ElementTree as ET\n",
    "import pandas as pd\n",
    "import datetime\n",
    "import time"
   ]
  },
  {
   "cell_type": "code",
   "execution_count": null,
   "metadata": {},
   "outputs": [],
   "source": [
    "def query():\n",
    "\n",
    "    try:\n",
    "        df = pd.read_csv('buses.csv')\n",
    "    except:\n",
    "        df = pd.DataFrame()\n",
    "\n",
    "    # Query Translink API\n",
    "    u = f\"http://api.translink.ca/rttiapi/v1/buses?apikey={translink_api_key}\"\n",
    "\n",
    "    attnames = ['VehicleNo','TripId','RouteNo',\n",
    "                'Direction','Pattern','RouteMap','Latitude','Longitude','RecordedTime','Href']\n",
    "\n",
    "    with urllib.request.urlopen(u) as url:\n",
    "        data = url.read().decode()\n",
    "        buses = ET.fromstring(data)\n",
    "        ndf = pd.DataFrame()\n",
    "        for bus in buses:\n",
    "            atts = [att.text for att in bus]\n",
    "            atts = {name:att for name,att in zip(attnames,atts)}\n",
    "            ndf = ndf.append(atts,ignore_index=True)\n",
    "\n",
    "\n",
    "        ndf.RecordedTime = pd.to_datetime(ndf.RecordedTime)\n",
    "        ndf.Latitude = ndf.Latitude.astype(float)\n",
    "        ndf.Longitude = ndf.Longitude.astype(float)\n",
    "        ndf = ndf[ndf.Latitude!=0]  # Drop lats/long == 0\n",
    "\n",
    "    df = df.append(ndf)\n",
    "    df = df.drop_duplicates()\n",
    "\n",
    "    df.to_csv('buses.csv',index=False)"
   ]
  },
  {
   "cell_type": "markdown",
   "metadata": {},
   "source": [
    "For my project I run this function once a minute. For this exercice we just need to run it a few times to get some data. Let's query the API 5 times before moving on."
   ]
  },
  {
   "cell_type": "code",
   "execution_count": null,
   "metadata": {},
   "outputs": [],
   "source": [
    "for i in range(5):\n",
    "    print('query')\n",
    "    query()\n",
    "    time.sleep(60)"
   ]
  },
  {
   "cell_type": "markdown",
   "metadata": {},
   "source": [
    "Now we've built up some data, but it's in a fairly messy form. We need to transform the dataframe into something we can cycle through to make an animations."
   ]
  },
  {
   "cell_type": "code",
   "execution_count": null,
   "metadata": {},
   "outputs": [],
   "source": [
    "df = pd.read_csv('buses.csv')\n",
    "df.head()"
   ]
  },
  {
   "cell_type": "markdown",
   "metadata": {},
   "source": [
    "My goal now is to conver the dataframe such that each row is a timepoint and each column is an individual bus, with the values being the location coordinates. For simplicity I'm also going to break out latitude and longitude into separate dataframes."
   ]
  },
  {
   "cell_type": "code",
   "execution_count": null,
   "metadata": {},
   "outputs": [],
   "source": [
    "latdf = pd.pivot_table(df,index='RecordedTime',values='Latitude',columns='VehicleNo',aggfunc='first')\n",
    "longdf = pd.pivot_table(df,index='RecordedTime',values='Longitude',columns='VehicleNo',aggfunc='first')"
   ]
  },
  {
   "cell_type": "code",
   "execution_count": null,
   "metadata": {},
   "outputs": [],
   "source": [
    "latdf[1503].dropna()"
   ]
  },
  {
   "cell_type": "markdown",
   "metadata": {},
   "source": [
    "The dataframe looks empty but it's really just sparse. Each bus has a different \"RecordedTime\" value, the last time which it reported its location to Translink's servers. What I want to do it first reindex the dataframe so that the index is continuous through the timeframe we're looking at, then interpolate the coordinates for each bus along each columns. The interpolation needs to be run on floats not tuples which is why I separated out the lats and longs, but I'll recombine them into `coordsdf` once the interpolation is done."
   ]
  },
  {
   "cell_type": "code",
   "execution_count": null,
   "metadata": {},
   "outputs": [],
   "source": [
    "df.RecordedTime = pd.to_datetime(df.RecordedTime)\n",
    "idx = pd.date_range(df.RecordedTime.min(),df.RecordedTime.max(),freq='s')\n",
    "\n",
    "latdf = latdf.reindex(idx)\n",
    "longdf = longdf.reindex(idx)\n",
    "\n",
    "latdf_interp = latdf.interpolate(method='time',limit_direction='both')\n",
    "longdf_interp = longdf.interpolate(method='time',limit_direction='both')\n",
    "\n",
    "coordsdf = latdf_interp.combine(longdf_interp,lambda x,y: tuple(zip(y,x)))\n",
    "\n",
    "# We don't actually need a data point for each second to make a smooth\n",
    "# GIF, so let's only keep every 20th row.\n",
    "coordsdf = coordsdf.iloc[::20]"
   ]
  },
  {
   "cell_type": "code",
   "execution_count": null,
   "metadata": {},
   "outputs": [],
   "source": [
    "coordsdf.head()"
   ]
  },
  {
   "cell_type": "markdown",
   "metadata": {},
   "source": [
    "This is something I can work with! I'll start by drawing a static scatter plot of the first row of our dat"
   ]
  },
  {
   "cell_type": "code",
   "execution_count": null,
   "metadata": {},
   "outputs": [],
   "source": [
    "import matplotlib.pyplot as plt\n",
    "import matplotlib.animation as animation\n",
    "%matplotlib notebook\n",
    "\n",
    "f,ax = plt.subplots()\n",
    "ax.set_facecolor('k')\n",
    "ax.axes.get_xaxis().set_visible(False)\n",
    "ax.axes.get_yaxis().set_visible(False)\n",
    "f.subplots_adjust(left=0, bottom=0, right=1, top=1, wspace=None, hspace=None)\n",
    "\n"
   ]
  },
  {
   "cell_type": "code",
   "execution_count": null,
   "metadata": {
    "scrolled": false
   },
   "outputs": [],
   "source": [
    "longs = coordsdf.iloc[0].map(lambda x: x[0])\n",
    "lats =  coordsdf.iloc[0].map(lambda x: x[1])\n",
    "\n",
    "longmin = -123.3206 # Horseshoe bay\n",
    "longmax = -122.5374 # Langley-ish\n",
    "latmin = 49.0       # US Border/Ferry terminal\n",
    "latmax = 49.479576  # Lions Bay\n",
    "ax.set_xlim(longmin,longmax)\n",
    "ax.set_ylim(latmin,latmax)\n",
    "\n",
    "scatter = ax.scatter(longs,lats,s=1,cmap='cool',c=range(len(coordsdf.columns)))\n",
    "text = ax.text(0.9,0.9,str(coordsdf.index[0])[:16],size=15,\n",
    "                         color='white',alpha=0.4,transform=ax.transAxes,horizontalalignment='right')"
   ]
  },
  {
   "cell_type": "markdown",
   "metadata": {},
   "source": [
    "Finally to turn this into an animation I have to define a function that will be run in sequence to create each frame. I just need to pull the latitudes and longitudes from the next row in our dataframe, update the scatter plot and update the timestamp text.\n",
    "\n",
    "To create the animation `FuncAnimation` just needs the original figure handle, the update function, the number of frames and the time interval between frames. We want one frame for each row in the dataframe, and I found that a 50 ms frame rate gives a nice smooth appearance. "
   ]
  },
  {
   "cell_type": "code",
   "execution_count": null,
   "metadata": {},
   "outputs": [],
   "source": [
    "def run(i):\n",
    "\n",
    "    longs = coordsdf.iloc[i].map(lambda x: x[0])\n",
    "    lats =  coordsdf.iloc[i].map(lambda x: x[1])\n",
    "\n",
    "    scatter.set_offsets(list(zip(longs,lats)))\n",
    "    text.set_text(str(coordsdf.index[i])[:16])"
   ]
  },
  {
   "cell_type": "code",
   "execution_count": null,
   "metadata": {},
   "outputs": [],
   "source": [
    "frames=len(coordsdf)\n",
    "ani = animation.FuncAnimation(f,run,frames=frames, interval=50)\n",
    "ani.save('buses_animation.gif',writer='imagemagick') "
   ]
  },
  {
   "cell_type": "markdown",
   "metadata": {},
   "source": [
    "It's up to you whether you want to create a GIF or an mp4 video file. If you prefer mp4, you might want to use the `ffmpeg` writer instead of `imagemagick`. Videos have the advantage of smaller file sizes, but I'm having some trouble upload mp4s through the twitter API so I'm sticking with GIFs for now. \n",
    "\n",
    "The final code for my twitter bot available on [Github](https://github.com/mjarrett/VanBusBot). It's organized slightly differently to make it easier to run as cron jobs, but the guts are exactly the same as what's described here. If you have any questions about this project, don't hesitate to get in touch via [twitter](https://twitter.com/mikejarrett_) or [email](mike@mikejarrett.ca)."
   ]
  }
 ],
 "metadata": {
  "kernelspec": {
   "display_name": "Python 3",
   "language": "python",
   "name": "python3"
  },
  "language_info": {
   "codemirror_mode": {
    "name": "ipython",
    "version": 3
   },
   "file_extension": ".py",
   "mimetype": "text/x-python",
   "name": "python",
   "nbconvert_exporter": "python",
   "pygments_lexer": "ipython3",
   "version": "3.6.6"
  },
  "nikola": {
   "category": "",
   "date": "2019-02-16 21:26:54 UTC-08:00",
   "description": "",
   "link": "",
   "slug": "mapping-vancouvers-buses",
   "tags": "",
   "title": "Mapping Vancouver's Buses",
   "type": "text"
  }
 },
 "nbformat": 4,
 "nbformat_minor": 2
}
