{
 "cells": [
  {
   "cell_type": "markdown",
   "metadata": {},
   "source": [
    "This post is outdated. [See this more recent post](https://notes.mikejarrett.ca/optimizing-your-nikola-blog-for-jupyter-notebooks/) on optimizing Nikola for Jupyter blogs for my latest work on this. "
   ]
  }
 ],
 "metadata": {
  "kernelspec": {
   "display_name": "Python 3",
   "language": "python",
   "name": "python3"
  },
  "language_info": {
   "codemirror_mode": {
    "name": "ipython",
    "version": 3
   },
   "file_extension": ".py",
   "mimetype": "text/x-python",
   "name": "python",
   "nbconvert_exporter": "python",
   "pygments_lexer": "ipython3",
   "version": "3.6.6"
  },
  "nikola": {
   "category": "",
   "date": "2017-01-19 17:54:45 UTC-08:00",
   "description": "",
   "link": "",
   "slug": "a-jupyter-friendly-nikola-theme",
   "tags": "nikola,jupyter,theme",
   "title": "A Jupyter Friendly Nikola Theme",
   "type": "text"
  }
 },
 "nbformat": 4,
 "nbformat_minor": 2
}
